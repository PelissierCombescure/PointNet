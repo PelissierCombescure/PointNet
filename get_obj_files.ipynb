{
 "cells": [
  {
   "cell_type": "markdown",
   "metadata": {},
   "source": [
    "Ok avec `PoinNet0_env`"
   ]
  },
  {
   "cell_type": "code",
   "execution_count": 4,
   "metadata": {},
   "outputs": [
    {
     "name": "stdout",
     "output_type": "stream",
     "text": [
      "Liste des fichiers .off du dossier ModelNet40 générée avec succès !\n"
     ]
    }
   ],
   "source": [
    "import os\n",
    "import glob\n",
    "from tqdm import tqdm\n",
    "\n",
    "def get_off_files_recursive(folder_path):\n",
    "    # Get all .off files from the folder and its subfolders\n",
    "    off_files = glob.glob(os.path.join(folder_path, \"**\", \"*.off\"), recursive=True)\n",
    "    \n",
    "    # Filter out files that contain 'SIMPL' in their name\n",
    "    off_files = [file for file in off_files if 'SMPL' not in os.path.basename(file)]\n",
    "    \n",
    "    return off_files\n",
    "\n",
    "# Usage example\n",
    "folder_path = '/home/pelissier/These-ATER/Papier_international3/Dataset/'\n",
    "dataset = \"ModelNet40\"\n",
    "off_files = get_off_files_recursive(folder_path+dataset+\"/\")\n",
    "\n",
    "# Write the list to a text file\n",
    "with open(folder_path+\"off_files_\"+dataset+\".txt\", 'w') as file:\n",
    "    for off_file in off_files:\n",
    "        file.write(f\"{off_file}\\n\")\n",
    "        \n",
    "print(\"Liste des fichiers .off du dossier \"+dataset+\" générée avec succès !\")\n"
   ]
  },
  {
   "cell_type": "code",
   "execution_count": null,
   "metadata": {},
   "outputs": [],
   "source": []
  }
 ],
 "metadata": {
  "kernelspec": {
   "display_name": "Python 3",
   "language": "python",
   "name": "python3"
  },
  "language_info": {
   "codemirror_mode": {
    "name": "ipython",
    "version": 3
   },
   "file_extension": ".py",
   "mimetype": "text/x-python",
   "name": "python",
   "nbconvert_exporter": "python",
   "pygments_lexer": "ipython3",
   "version": "3.7.12"
  }
 },
 "nbformat": 4,
 "nbformat_minor": 2
}
