{
 "cells": [
  {
   "cell_type": "code",
   "execution_count": 1,
   "metadata": {},
   "outputs": [],
   "source": [
    "import os\n",
    "import glob\n",
    "import tqdm\n",
    "\n",
    "def get_off_files_recursive(folder_path):\n",
    "    # Get all .off files from the folder and its subfolders\n",
    "    off_files = glob.glob(os.path.join(folder_path, \"**\", \"*.off\"), recursive=True)\n",
    "    \n",
    "    # Filter out files that contain 'SIMPL' in their name\n",
    "    off_files = [file for file in off_files if 'SMPL' not in os.path.basename(file)]\n",
    "    \n",
    "    return off_files\n",
    "\n",
    "# Usage example\n",
    "folder_path = '/home/pelissier/These-ATER/Papier_international3/Dataset/ModelNet40'\n",
    "off_files = get_off_files_recursive(folder_path)\n"
   ]
  },
  {
   "cell_type": "code",
   "execution_count": 2,
   "metadata": {},
   "outputs": [],
   "source": [
    "for input_path in off_files:\n",
    "    output_path = \"/home/pelissier/These-ATER/Papier_international3/PointNet/my_PointNet/Critical_pts/ModelNet40/\"\n",
    "    kind_of_outputs = '{\"critical and non-critical points\": true, \"only critical points\": true, \"offet\": true}'\n",
    "    affichage = False\n",
    "\n",
    "    !python /home/pelissier/These-ATER/Papier_international3/PointNet/my_PointNet/get_critical_points.py {input_path} {output_path} --kind_of_outputs '{kind_of_outputs}' --affichage {affichage}\n"
   ]
  },
  {
   "cell_type": "code",
   "execution_count": null,
   "metadata": {},
   "outputs": [],
   "source": []
  }
 ],
 "metadata": {
  "kernelspec": {
   "display_name": "Python 3",
   "language": "python",
   "name": "python3"
  },
  "language_info": {
   "codemirror_mode": {
    "name": "ipython",
    "version": 3
   },
   "file_extension": ".py",
   "mimetype": "text/x-python",
   "name": "python",
   "nbconvert_exporter": "python",
   "pygments_lexer": "ipython3",
   "version": "3.7.12"
  }
 },
 "nbformat": 4,
 "nbformat_minor": 2
}
